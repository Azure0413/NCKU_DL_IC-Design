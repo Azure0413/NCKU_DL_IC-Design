{
 "cells": [
  {
   "cell_type": "code",
   "execution_count": 2,
   "metadata": {},
   "outputs": [
    {
     "name": "stdout",
     "output_type": "stream",
     "text": [
      "ans of 20*60 = 1200\n"
     ]
    }
   ],
   "source": [
    "from pynq import Overlay, MMIO\n",
    "import warnings\n",
    "warnings.filterwarnings(\"ignore\")\n",
    "\n",
    "axi_cdma_design = Overlay(\"./hw8.bit\")\n",
    "cdma_address = axi_cdma_design.ip_dict['axi_cdma_0']['phys_addr']\n",
    "\n",
    "mem_addr = 0x30000000\n",
    "bram_addr = 0xc0000000\n",
    "\n",
    "in_addr = MMIO(mem_addr, 16)\n",
    "cdma = MMIO(cdma_address, 44)\n",
    "\n",
    "a=20\n",
    "b=60\n",
    "in_addr.write(0x0, a)\n",
    "in_addr.write(0x4, b)\n",
    "\n",
    "# CDMA move data to BRAM\n",
    "cdma.write(0x00, 0x04)\n",
    "cdma.write(0x18, mem_addr)\n",
    "cdma.write(0x20, bram_addr)\n",
    "cdma.write(0x28, 0x08)\n",
    "\n",
    "cdma.write(0x00, 0x04)\n",
    "cdma.write(0x18, bram_addr)\n",
    "cdma.write(0x20, mem_addr)\n",
    "cdma.write(0x28, 0x10)\n",
    "\n",
    "print(f\"ans of {a}*{b} = {in_addr.read(0xC)}\") #1200"
   ]
  },
  {
   "cell_type": "code",
   "execution_count": null,
   "metadata": {},
   "outputs": [],
   "source": []
  }
 ],
 "metadata": {
  "kernelspec": {
   "display_name": "Python 3",
   "language": "python",
   "name": "python3"
  },
  "language_info": {
   "codemirror_mode": {
    "name": "ipython",
    "version": 3
   },
   "file_extension": ".py",
   "mimetype": "text/x-python",
   "name": "python",
   "nbconvert_exporter": "python",
   "pygments_lexer": "ipython3",
   "version": "3.6.5"
  }
 },
 "nbformat": 4,
 "nbformat_minor": 2
}
